{
  "nbformat": 4,
  "nbformat_minor": 0,
  "metadata": {
    "colab": {
      "provenance": [],
      "authorship_tag": "ABX9TyOHse6Hvd0FU+KWKHXHGFnq",
      "include_colab_link": true
    },
    "kernelspec": {
      "name": "python3",
      "display_name": "Python 3"
    },
    "language_info": {
      "name": "python"
    }
  },
  "cells": [
    {
      "cell_type": "markdown",
      "metadata": {
        "id": "view-in-github",
        "colab_type": "text"
      },
      "source": [
        "<a href=\"https://colab.research.google.com/github/VeronikaKlachek/Python_HW10/blob/main/HW_10.ipynb\" target=\"_parent\"><img src=\"https://colab.research.google.com/assets/colab-badge.svg\" alt=\"Open In Colab\"/></a>"
      ]
    },
    {
      "cell_type": "markdown",
      "source": [
        "##Задача 44.\n",
        "В ячейке ниже представлен код генерирующий DataFrame, которая состоит всего из 1 столбца. Ваша задача перевести его в one hot вид. Сможете ли вы это сделать без get_dummies?\n",
        "\n",
        "import random  \n",
        "lst = ['robot'] * 10  \n",
        "lst += ['human'] * 10  \n",
        "random.shuffle(lst)  \n",
        "data = pd.DataFrame({'whoAmI':lst})  \n",
        "data.head()"
      ],
      "metadata": {
        "id": "wHnMV4lE9IfC"
      }
    },
    {
      "cell_type": "code",
      "source": [
        "import pandas as pd\n",
        "import random\n",
        "\n",
        "\n"
      ],
      "metadata": {
        "id": "4UIoc_q09_DD"
      },
      "execution_count": 37,
      "outputs": []
    },
    {
      "cell_type": "code",
      "source": [
        "lst = [input('Введите первое слово: ')] * 10\n",
        "# print(lst)\n",
        "lst += [input('Введите второе слово: ')] * 10\n",
        "# print(lst)"
      ],
      "metadata": {
        "colab": {
          "base_uri": "https://localhost:8080/"
        },
        "id": "Om-Wt9SyNccz",
        "outputId": "3415ab7e-eb4e-472a-c500-5f3a0a4be06e"
      },
      "execution_count": 38,
      "outputs": [
        {
          "name": "stdout",
          "output_type": "stream",
          "text": [
            "Введите первое слово: robot\n",
            "Введите второе слово: human\n"
          ]
        }
      ]
    },
    {
      "cell_type": "code",
      "source": [
        "random.shuffle(lst)\n",
        "# print(lst)"
      ],
      "metadata": {
        "id": "8avU25J5ORuZ"
      },
      "execution_count": 40,
      "outputs": []
    },
    {
      "cell_type": "code",
      "source": [
        "data = pd.DataFrame({'whoAmI': lst})\n",
        "print(data)"
      ],
      "metadata": {
        "colab": {
          "base_uri": "https://localhost:8080/"
        },
        "id": "Qh9F4WwgOaHy",
        "outputId": "5c66b5a5-32e3-4b5d-d1f3-fb4f38d8bc40"
      },
      "execution_count": 41,
      "outputs": [
        {
          "output_type": "stream",
          "name": "stdout",
          "text": [
            "   whoAmI\n",
            "0   robot\n",
            "1   robot\n",
            "2   robot\n",
            "3   human\n",
            "4   human\n",
            "5   human\n",
            "6   human\n",
            "7   robot\n",
            "8   robot\n",
            "9   robot\n",
            "10  robot\n",
            "11  human\n",
            "12  human\n",
            "13  human\n",
            "14  human\n",
            "15  human\n",
            "16  robot\n",
            "17  human\n",
            "18  robot\n",
            "19  robot\n"
          ]
        }
      ]
    },
    {
      "cell_type": "code",
      "source": [
        "unique_values = data['whoAmI'].unique()\n",
        "# print(unique_values)"
      ],
      "metadata": {
        "id": "raLW8T4fOnFs"
      },
      "execution_count": 42,
      "outputs": []
    },
    {
      "cell_type": "code",
      "source": [
        "one_hot_data = pd.DataFrame()\n",
        "\n",
        "for value in unique_values:\n",
        "  one_hot_data[value] = (data['whoAmI'] == value).astype(int)\n",
        "print(one_hot_data)"
      ],
      "metadata": {
        "colab": {
          "base_uri": "https://localhost:8080/"
        },
        "id": "_mES4sI1PWhv",
        "outputId": "548ebae4-2b6d-4e02-c573-99570b6a1be6"
      },
      "execution_count": 44,
      "outputs": [
        {
          "output_type": "stream",
          "name": "stdout",
          "text": [
            "    robot  human\n",
            "0       1      0\n",
            "1       1      0\n",
            "2       1      0\n",
            "3       0      1\n",
            "4       0      1\n",
            "5       0      1\n",
            "6       0      1\n",
            "7       1      0\n",
            "8       1      0\n",
            "9       1      0\n",
            "10      1      0\n",
            "11      0      1\n",
            "12      0      1\n",
            "13      0      1\n",
            "14      0      1\n",
            "15      0      1\n",
            "16      1      0\n",
            "17      0      1\n",
            "18      1      0\n",
            "19      1      0\n"
          ]
        }
      ]
    }
  ]
}